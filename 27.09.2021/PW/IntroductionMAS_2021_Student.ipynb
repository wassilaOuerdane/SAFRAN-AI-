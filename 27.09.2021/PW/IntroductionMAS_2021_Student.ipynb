{
 "cells": [
  {
   "cell_type": "markdown",
   "metadata": {},
   "source": [
    "<center><img src='https://drive.google.com/uc?export=view&id=1qJ8NqAZolTBQY7lN-deZ8xEsU3dlUiLz' width=200></center>\n",
    "\n",
    "\n",
    "<h6><center></center></h6>\n",
    "\n",
    "<h1>\n",
    "<hr style=\" border:none; height:3px;\">\n",
    "<center>Agent and Multi-Agent Systems </center>\n",
    "    <center> PW1 : Basic concepts and Mesa Plateform</center>\n",
    "<hr style=\" border:none; height:3px;\">\n",
    "</h1>\n",
    "\n"
   ]
  },
  {
   "cell_type": "markdown",
   "metadata": {},
   "source": [
    "<div class=\"alert alert-block alert-danger\">\n",
    "All implementation in this course is done using the Python programming language. The reason for this is most of the courses done in this training use this language.\n",
    "    \n",
    "\n",
    "<br>\n",
    "    \n",
    "However, it is important to note that existing multiagent platforms mostly use different high-level programming languages such as Java, C++ or C#. Indeed, these languages are more time-efficient, they better support parallel computing, network-based architectures or object-oriented models. The most popular multiagent platforms are Jade (especially for system programming) and Repast Symphony (especially for social simulation). Both use the Java programming language.\n",
    "</div>\n"
   ]
  },
  {
   "cell_type": "markdown",
   "metadata": {},
   "source": [
    "<div class =\"alert alert-block alert-success\">\n",
    "The understanding of concepts through their implementation in Python is an important part of this session. Take the time to achieve all practical exercises to understand the difficulty of MAS programming before you switch to the Mesa library (which does all the job for you). Please use your favorite IDE for programming in Python if you don't want to use the Notbook.\n",
    "</div>"
   ]
  },
  {
   "cell_type": "markdown",
   "metadata": {},
   "source": [
    "### Part 1: Agent and MAS"
   ]
  },
  {
   "cell_type": "markdown",
   "metadata": {},
   "source": [
    "Let us begin with two very simple agents in an environment. "
   ]
  },
  {
   "cell_type": "code",
   "execution_count": null,
   "metadata": {},
   "outputs": [],
   "source": [
    "from time import sleep\n",
    "\n",
    "class Environment:\n",
    "    def act(self,message):\n",
    "        print(message)\n",
    "    def perceive(self):\n",
    "        pass\n",
    "\n",
    "class Agent:\n",
    "    def __init__(self,name,env):\n",
    "        self.name = name\n",
    "        self.env = env\n",
    "    def procedural_loop(self):\n",
    "        while True:\n",
    "            self.env.act(\"Agent \"+self.name+\" says hello!\")\n",
    "            sleep(0.1)\n",
    "\n",
    "class Runtime:\n",
    "    def __init__(self):\n",
    "        e = Environment()\n",
    "        (Agent(\"Alice\",e)).procedural_loop()\n",
    "        (Agent(\"Bob\",e)).procedural_loop()\n",
    "\n",
    "Runtime()"
   ]
  },
  {
   "cell_type": "markdown",
   "metadata": {},
   "source": [
    "<div class=\"alert alert-block alert-info\"> \n",
    "\n",
    " <b>Questions</b>\n",
    "    \n",
    " \n",
    "1- Why does this not behave as a multiagent system?\n",
    "\n",
    "2- What is the problem?\n",
    "</div> \n",
    "\n",
    "\n"
   ]
  },
  {
   "cell_type": "markdown",
   "metadata": {},
   "source": [
    "<div class =\"alert alert-block alert-success\">\n",
    "\n",
    "<b>Response here</b>\n",
    "\n",
    "\n",
    "</div>   \n"
   ]
  },
  {
   "cell_type": "markdown",
   "metadata": {},
   "source": [
    "\n",
    "\n",
    "<div class=\"alert alert-block alert-info\"> \n",
    "\n",
    "To overcome the above limitation, two solutions can be considered. \n",
    "\n",
    "The first one is to write a **scheduler**, i.e. a piece of code that calls the procedural loops of all agents, one after the other.\n",
    "    \n",
    "3- Modify the previous code so that *Runtime* creates two agents and calls a single-step procedural loop for all agents.\n",
    "</div> \n",
    "\n",
    "\n",
    "\n"
   ]
  },
  {
   "cell_type": "code",
   "execution_count": null,
   "metadata": {},
   "outputs": [],
   "source": [
    "#Answers.\n"
   ]
  },
  {
   "cell_type": "markdown",
   "metadata": {},
   "source": [
    "<div class=\"alert alert-block alert-info\"> \n",
    "\n",
    " <b>Questions</b>\n",
    "    \n",
    "4- Do we have a multiagent system yet?\n",
    "</div> "
   ]
  },
  {
   "cell_type": "markdown",
   "metadata": {},
   "source": [
    "<div class =\"alert alert-block alert-success\">\n",
    "\n",
    "<b>Response here</b>\n",
    "\n",
    "\n",
    "</div>   \n",
    "\n"
   ]
  },
  {
   "cell_type": "markdown",
   "metadata": {},
   "source": [
    "<div class=\"alert alert-block alert-info\"> \n",
    "\n",
    " <b>Questions</b>\n",
    "    \n",
    "5- Write a new multiagent system, either in the synchronous or in the asynchronous version, in which the environment has some variable that the agents can perceive. Write two reactive agents: the first one increases the variable by a random value when it is even, the other one when it odd.\n",
    "</div> \n",
    "\n",
    "\n"
   ]
  },
  {
   "cell_type": "code",
   "execution_count": null,
   "metadata": {},
   "outputs": [],
   "source": [
    "#Answers: Two agents and an environment’s variable\n"
   ]
  }
 ],
 "metadata": {
  "kernelspec": {
   "display_name": "Python 3",
   "language": "python",
   "name": "python3"
  },
  "language_info": {
   "codemirror_mode": {
    "name": "ipython",
    "version": 3
   },
   "file_extension": ".py",
   "mimetype": "text/x-python",
   "name": "python",
   "nbconvert_exporter": "python",
   "pygments_lexer": "ipython3",
   "version": "3.8.5"
  }
 },
 "nbformat": 4,
 "nbformat_minor": 4
}
